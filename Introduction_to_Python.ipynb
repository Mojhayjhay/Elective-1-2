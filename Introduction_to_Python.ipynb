{
  "nbformat": 4,
  "nbformat_minor": 0,
  "metadata": {
    "colab": {
      "name": "Introduction to Python.ipynb",
      "provenance": [],
      "authorship_tag": "ABX9TyPdta9S4gjtcX+ueCcTGpaG",
      "include_colab_link": true
    },
    "kernelspec": {
      "name": "python3",
      "display_name": "Python 3"
    },
    "language_info": {
      "name": "python"
    }
  },
  "cells": [
    {
      "cell_type": "markdown",
      "metadata": {
        "id": "view-in-github",
        "colab_type": "text"
      },
      "source": [
        "<a href=\"https://colab.research.google.com/github/Mojhayjhay/Elective-1-2/blob/main/Introduction_to_Python.ipynb\" target=\"_parent\"><img src=\"https://colab.research.google.com/assets/colab-badge.svg\" alt=\"Open In Colab\"/></a>"
      ]
    },
    {
      "cell_type": "markdown",
      "source": [
        "##Introduction to Python"
      ],
      "metadata": {
        "id": "r6c6VHEt3Lc4"
      }
    },
    {
      "cell_type": "code",
      "source": [
        "x = 5\n",
        "y = 2\n",
        "\n",
        "if x > y: #Comparison of x & y\n",
        "  print(f\"{x} is greater than {y}\")\n",
        "else:\n",
        "  print(f\"{y} is greater than {x}\")\n"
      ],
      "metadata": {
        "colab": {
          "base_uri": "https://localhost:8080/"
        },
        "id": "10omQU8F3Zfn",
        "outputId": "8e771013-afdc-478e-a813-d9c8d0a3bad1"
      },
      "execution_count": 2,
      "outputs": [
        {
          "output_type": "stream",
          "name": "stdout",
          "text": [
            "5 is greater than 2\n"
          ]
        }
      ]
    },
    {
      "cell_type": "code",
      "source": [
        "x = 'Billy'\n",
        "\n",
        "print(x)"
      ],
      "metadata": {
        "colab": {
          "base_uri": "https://localhost:8080/"
        },
        "id": "OVeNl5hI3qBh",
        "outputId": "aefdf76c-6d8b-431d-d111-30c73f2269a0"
      },
      "execution_count": 3,
      "outputs": [
        {
          "output_type": "stream",
          "name": "stdout",
          "text": [
            "Billy\n"
          ]
        }
      ]
    }
  ]
}