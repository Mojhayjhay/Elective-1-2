{
  "nbformat": 4,
  "nbformat_minor": 0,
  "metadata": {
    "colab": {
      "name": "Operations and Expressions in Python - Billy Joe Andrade.ipynb",
      "provenance": [],
      "authorship_tag": "ABX9TyMov1gRIOs/aLXOMekHDdpt",
      "include_colab_link": true
    },
    "kernelspec": {
      "name": "python3",
      "display_name": "Python 3"
    },
    "language_info": {
      "name": "python"
    }
  },
  "cells": [
    {
      "cell_type": "markdown",
      "metadata": {
        "id": "view-in-github",
        "colab_type": "text"
      },
      "source": [
        "<a href=\"https://colab.research.google.com/github/Mojhayjhay/Elective-1-2/blob/main/Operations_and_Expressions_in_Python_Billy_Joe_Andrade.ipynb\" target=\"_parent\"><img src=\"https://colab.research.google.com/assets/colab-badge.svg\" alt=\"Open In Colab\"/></a>"
      ]
    },
    {
      "cell_type": "markdown",
      "source": [
        "##Boolean Operators"
      ],
      "metadata": {
        "id": "d9pzaI1a0wMM"
      }
    },
    {
      "cell_type": "code",
      "execution_count": 15,
      "metadata": {
        "colab": {
          "base_uri": "https://localhost:8080/"
        },
        "id": "FJu4rx1DoLe7",
        "outputId": "1600f3c9-e668-4007-e355-f0d858d5fcbc"
      },
      "outputs": [
        {
          "output_type": "stream",
          "name": "stdout",
          "text": [
            "True\n",
            "False\n",
            "True\n"
          ]
        }
      ],
      "source": [
        "print(10>9)\n",
        "print(10<9)\n",
        "print(2==2)\n"
      ]
    },
    {
      "cell_type": "markdown",
      "source": [
        "##Bool Function"
      ],
      "metadata": {
        "id": "-o1aSxI81DMv"
      }
    },
    {
      "cell_type": "code",
      "source": [
        "print(bool('Hello'))\n",
        "print(bool(15))\n",
        "\n",
        "print(bool())\n",
        "print(bool(0))\n",
        "print(bool(False))\n",
        "print(bool(None))\n",
        "print(bool([]))\n"
      ],
      "metadata": {
        "colab": {
          "base_uri": "https://localhost:8080/"
        },
        "id": "HJQkNe7B1GIN",
        "outputId": "4727d1e9-a03d-407d-f5bd-9f1d3d94b75c"
      },
      "execution_count": 47,
      "outputs": [
        {
          "output_type": "stream",
          "name": "stdout",
          "text": [
            "True\n",
            "True\n",
            "False\n",
            "False\n",
            "False\n",
            "False\n",
            "False\n"
          ]
        }
      ]
    },
    {
      "cell_type": "markdown",
      "source": [
        "##Function\n",
        "\n"
      ],
      "metadata": {
        "id": "48BNwCUo01Wa"
      }
    },
    {
      "cell_type": "code",
      "source": [
        "def myFunction():\n",
        "  return True\n",
        "\n",
        "if myFunction():\n",
        "  print(\"Yes!\")\n",
        "else:\n",
        "  print(\"No!\")"
      ],
      "metadata": {
        "colab": {
          "base_uri": "https://localhost:8080/"
        },
        "id": "uiV1wtevpD4L",
        "outputId": "fd9dbaee-61b0-4b6c-b58d-3dd109a55c94"
      },
      "execution_count": 12,
      "outputs": [
        {
          "output_type": "stream",
          "name": "stdout",
          "text": [
            "Yes!\n"
          ]
        }
      ]
    },
    {
      "cell_type": "code",
      "source": [
        "def myFunction():\n",
        "  return False\n",
        "\n",
        "if myFunction():\n",
        "  print(\"Yes!\")\n",
        "else:\n",
        "  print(\"No!\")"
      ],
      "metadata": {
        "colab": {
          "base_uri": "https://localhost:8080/"
        },
        "id": "vbJrkV74qdh2",
        "outputId": "56edb545-3132-427a-9a02-df2eacddef29"
      },
      "execution_count": 13,
      "outputs": [
        {
          "output_type": "stream",
          "name": "stdout",
          "text": [
            "No!\n"
          ]
        }
      ]
    },
    {
      "cell_type": "markdown",
      "source": [
        "##Text\n"
      ],
      "metadata": {
        "id": "kUuau9IGsZ_-"
      }
    },
    {
      "cell_type": "code",
      "source": [
        "print(10>9)\n",
        "a=6\n",
        "b=7\n",
        "print(a==b)\n",
        "print(a!=b)"
      ],
      "metadata": {
        "colab": {
          "base_uri": "https://localhost:8080/"
        },
        "id": "jO5W1sUNscRv",
        "outputId": "adb4429a-506e-4c18-f483-7c14f4090337"
      },
      "execution_count": 20,
      "outputs": [
        {
          "output_type": "stream",
          "name": "stdout",
          "text": [
            "True\n",
            "False\n",
            "True\n"
          ]
        }
      ]
    },
    {
      "cell_type": "markdown",
      "source": [
        "##Python Operator"
      ],
      "metadata": {
        "id": "VL8JYGVvq9bt"
      }
    },
    {
      "cell_type": "code",
      "source": [
        "#Arithmentic Operation\n",
        "\n",
        "print(10%6)\n",
        "print(10//2)\n",
        "print(10**2)\n",
        "print(10+2)"
      ],
      "metadata": {
        "colab": {
          "base_uri": "https://localhost:8080/"
        },
        "id": "ZhnQqNU5rNcf",
        "outputId": "7c5fb5ed-7159-4edf-b080-2c4a17e8da27"
      },
      "execution_count": 30,
      "outputs": [
        {
          "output_type": "stream",
          "name": "stdout",
          "text": [
            "4\n",
            "5\n",
            "100\n",
            "12\n"
          ]
        }
      ]
    },
    {
      "cell_type": "markdown",
      "source": [
        "##Python Bitwise Operators"
      ],
      "metadata": {
        "id": "d0TaQUNAswJe"
      }
    },
    {
      "cell_type": "markdown",
      "source": [
        ""
      ],
      "metadata": {
        "id": "qm9JP85Lu8cF"
      }
    },
    {
      "cell_type": "code",
      "source": [
        "#Bitwise Operators\n",
        "\n",
        "print(60 & 13)\n",
        "print(60 | 13)\n",
        "print(60 ^ 13)\n",
        "print(~60)\n",
        "print(~60 & ~13)"
      ],
      "metadata": {
        "colab": {
          "base_uri": "https://localhost:8080/"
        },
        "id": "DbXnACsmszXV",
        "outputId": "4cc3ad44-6793-45d9-c581-7a412a2d3f43"
      },
      "execution_count": 32,
      "outputs": [
        {
          "output_type": "stream",
          "name": "stdout",
          "text": [
            "12\n",
            "61\n",
            "49\n",
            "-61\n",
            "-62\n"
          ]
        }
      ]
    },
    {
      "cell_type": "markdown",
      "source": [
        "##Phyton Assignment Operators\n",
        "\n"
      ],
      "metadata": {
        "id": "UFs2gc5Qu8dY"
      }
    },
    {
      "cell_type": "code",
      "source": [
        "#Python Assignment Operators\n",
        "x = 6\n",
        "y = 3\n",
        "x+=y \n",
        "print(x) #x=x+3"
      ],
      "metadata": {
        "colab": {
          "base_uri": "https://localhost:8080/"
        },
        "id": "CLLg5qnyvUtO",
        "outputId": "fbcb7cbd-6fa1-4fe2-b47b-1149b1855b30"
      },
      "execution_count": 42,
      "outputs": [
        {
          "output_type": "stream",
          "name": "stdout",
          "text": [
            "9\n"
          ]
        }
      ]
    },
    {
      "cell_type": "markdown",
      "source": [
        "##Identity operators"
      ],
      "metadata": {
        "id": "_ySIHnObweNM"
      }
    },
    {
      "cell_type": "code",
      "source": [
        "x is y\n",
        "x is not y "
      ],
      "metadata": {
        "colab": {
          "base_uri": "https://localhost:8080/"
        },
        "id": "m5HFd0Y4xnC1",
        "outputId": "14a7f531-1a91-4f2e-c3b4-8cdb6735170f"
      },
      "execution_count": 43,
      "outputs": [
        {
          "output_type": "execute_result",
          "data": {
            "text/plain": [
              "True"
            ]
          },
          "metadata": {},
          "execution_count": 43
        }
      ]
    },
    {
      "cell_type": "markdown",
      "source": [
        "##Logical Operators "
      ],
      "metadata": {
        "id": "m9h212Qy0PiS"
      }
    },
    {
      "cell_type": "code",
      "source": [
        "w = False\n",
        "x = True\n",
        "y = True\n",
        "z = False\n",
        "\n",
        "print(x and y and z)\n",
        "print(x or y)\n",
        "print(w and z)\n",
        "print(w or z)"
      ],
      "metadata": {
        "colab": {
          "base_uri": "https://localhost:8080/"
        },
        "id": "XacyIr_10VlS",
        "outputId": "940dbc7f-ce9b-47fd-e951-c0c25325efd7"
      },
      "execution_count": 46,
      "outputs": [
        {
          "output_type": "stream",
          "name": "stdout",
          "text": [
            "False\n",
            "True\n",
            "False\n",
            "False\n"
          ]
        }
      ]
    }
  ]
}